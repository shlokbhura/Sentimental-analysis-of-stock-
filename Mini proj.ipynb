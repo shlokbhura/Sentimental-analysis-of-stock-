{
 "cells": [
  {
   "cell_type": "code",
   "execution_count": 68,
   "id": "4d520af7-8113-41e7-9a2f-eae1c52e5604",
   "metadata": {},
   "outputs": [],
   "source": [
    "# **Step 1: Stock Price Analysis and Prediction**"
   ]
  },
  {
   "cell_type": "code",
   "execution_count": 69,
   "id": "92f31d35-b7ef-468c-bf9d-98dc006b5b89",
   "metadata": {},
   "outputs": [],
   "source": [
    "# **Step 1.1: Importing Required Libraries for numerical analysis and prediction of stock prices**\n"
   ]
  },
  {
   "cell_type": "code",
   "execution_count": 89,
   "id": "8362e175-5ce5-4fc4-a920-92518b86793a",
   "metadata": {},
   "outputs": [],
   "source": [
    "import numpy as np\n",
    "import matplotlib.pyplot as plt\n",
    "import pandas as pd \n",
    "from sklearn.preprocessing import MinMaxScaler\n",
    "from sklearn.metrics import mean_squared_error\n",
    "from sklearn import metrics \n",
    "from keras.models import Sequential\n",
    "from keras.layers import Dense, LSTM\n",
    "import math\n",
    "import yfinance as yf"
   ]
  },
  {
   "cell_type": "code",
   "execution_count": 90,
   "id": "113cd4f5-fe83-4fcd-bde6-b1a80aa16a01",
   "metadata": {},
   "outputs": [],
   "source": [
    "quote='MRF.NS'"
   ]
  },
  {
   "cell_type": "code",
   "execution_count": 104,
   "id": "0e0f3dc0-5579-4e41-a766-5a0d678a3592",
   "metadata": {},
   "outputs": [],
   "source": [
    "def get_historical(quote):\n",
    "    end = datetime(2024,3,1)\n",
    "    start = datetime(2005,1,2)\n",
    "    data = yf.download(quote, start=start, end=end)\n",
    "    df = pd.DataFrame(data=data)\n",
    "    df.to_csv(''+quote+'.csv')\n",
    "    if(df.empty):\n",
    "        ts = TimeSeries(key='N6A6QT6IBFJOPJ70',output_format='pandas')\n",
    "        data, meta_data = ts.get_daily_adjusted(symbol='NSE:'+quote, outputsize='full')\n",
    "        #Format df\n",
    "        #Last 2 yrs rows => 502, in ascending order => ::-1\n",
    "        data=data.head(503).iloc[::-1]\n",
    "        data=data.reset_index()\n",
    "        #Keep Required cols only\n",
    "        df=pd.DataFrame()\n",
    "        df['Date']=data['date']\n",
    "        df['Open']=data['1. open']\n",
    "        df['High']=data['2. high']\n",
    "        df['Low']=data['3. low']\n",
    "        df['Close']=data['4. close']\n",
    "        df['Adj Close']=data['5. adjusted close']\n",
    "        df['Volume']=data['6. volume']\n",
    "        df.to_csv(''+quote+'.csv',index=False)\n",
    "    return"
   ]
  },
  {
   "cell_type": "code",
   "execution_count": 107,
   "id": "530e5c6a-1d05-47a6-895f-b1f44ad37e6e",
   "metadata": {},
   "outputs": [],
   "source": [
    "get_historical(quote)"
   ]
  },
  {
   "cell_type": "code",
   "execution_count": 108,
   "id": "7d1982d4-8ae0-4c4b-8021-e0fdc0a300c7",
   "metadata": {},
   "outputs": [
    {
     "name": "stdout",
     "output_type": "stream",
     "text": [
      "Requirement already satisfied: datetime in /opt/anaconda3/lib/python3.11/site-packages (5.4)\n",
      "Requirement already satisfied: zope.interface in /opt/anaconda3/lib/python3.11/site-packages (from datetime) (5.4.0)\n",
      "Requirement already satisfied: pytz in /opt/anaconda3/lib/python3.11/site-packages (from datetime) (2023.3.post1)\n",
      "Requirement already satisfied: setuptools in /opt/anaconda3/lib/python3.11/site-packages (from zope.interface->datetime) (68.2.2)\n",
      "Note: you may need to restart the kernel to use updated packages.\n"
     ]
    }
   ],
   "source": [
    "%pip install datetime"
   ]
  },
  {
   "cell_type": "code",
   "execution_count": 109,
   "id": "4244e799-66ff-4811-8f77-8eec945ddc60",
   "metadata": {},
   "outputs": [],
   "source": [
    "import datetime"
   ]
  },
  {
   "cell_type": "code",
   "execution_count": 110,
   "id": "18f429c7-e565-4f24-93f7-1e521f0dc0bb",
   "metadata": {},
   "outputs": [],
   "source": [
    "end = datetime.datetime(2024,3,1)\n",
    "start = datetime.datetime(2005,1,2)"
   ]
  },
  {
   "cell_type": "code",
   "execution_count": 111,
   "id": "61216bb3-502e-41b4-8c45-9146cd11944d",
   "metadata": {},
   "outputs": [],
   "source": [
    "def get_historical(quote):\n",
    "    ticker = yf.Ticker(quote)\n",
    "    end = datetime.datetime(2024,3,1)\n",
    "    start = datetime.datetime(2005,1,2)\n",
    "    data = ticker.history(start=start, end=end)\n",
    "    df = pd.DataFrame(data=data)"
   ]
  },
  {
   "cell_type": "code",
   "execution_count": 112,
   "id": "d98df042-4077-454d-add4-7fe637d4cb65",
   "metadata": {},
   "outputs": [],
   "source": [
    "# **Step 1.3 : Creating a dataframe for storing the Closing stock data per day**"
   ]
  },
  {
   "cell_type": "code",
   "execution_count": 113,
   "id": "e213de99-79e1-4c68-84d7-3787fa588fdd",
   "metadata": {},
   "outputs": [],
   "source": [
    "# convert an array of values into a dataset matrix\n",
    "def create_dataset(df2, look_back=1):\n",
    "\tdataX, dataY = [], []\n",
    "\tfor i in range(len(df2)-look_back-1):\n",
    "\t\ta = df2[i:(i+look_back), 0]\n",
    "\t\tdataX.append(a)\n",
    "\t\tdataY.append(df2[i + look_back, 0])\n",
    "\treturn np.array(dataX), np.array(dataY)"
   ]
  },
  {
   "cell_type": "code",
   "execution_count": 114,
   "id": "8630c86f-1c89-4eed-92df-f1f990b769ca",
   "metadata": {},
   "outputs": [],
   "source": [
    "df2 = pd.read_csv('MRF.NS.csv', usecols=[5], engine='python')\n",
    "df2.dropna(inplace=True)\n",
    "df2 = df2.values\n",
    "df2 = df2.astype('float32')"
   ]
  },
  {
   "cell_type": "code",
   "execution_count": 115,
   "id": "d2e1ad2c-a907-499d-a48e-aa4f37689859",
   "metadata": {},
   "outputs": [],
   "source": [
    "# **Step 1.4: Data Normalization and Division into Training and Test sets**"
   ]
  },
  {
   "cell_type": "code",
   "execution_count": 116,
   "id": "9872652c-5652-4699-8a15-c2e29c4240c1",
   "metadata": {},
   "outputs": [],
   "source": [
    "# normalize the dataset\n",
    "scaler = MinMaxScaler(feature_range=(0, 1))\n",
    "df2 = scaler.fit_transform(df2)\n",
    "\n",
    "# split into train and test sets\n",
    "train_size = int(len(df2) * 0.67)\n",
    "test_size = len(df2) - train_size\n",
    "train, test = df2[0:train_size,:], df2[train_size:len(df2),:]"
   ]
  },
  {
   "cell_type": "code",
   "execution_count": 117,
   "id": "7965e238-7321-4c0a-adac-0571eb9b1e3d",
   "metadata": {},
   "outputs": [],
   "source": [
    "# reshape into X=t and Y=t+1\n",
    "look_back = 2\n",
    "trainX, trainY = create_dataset(train, look_back)\n",
    "testX, testY = create_dataset(test, look_back)\n",
    "# reshape input to be [samples, time steps, features]\n",
    "trainX = np.reshape(trainX, (trainX.shape[0], trainX.shape[1], 1))\n",
    "testX = np.reshape(testX, (testX.shape[0], testX.shape[1], 1))"
   ]
  },
  {
   "cell_type": "code",
   "execution_count": 118,
   "id": "7ec83b0e-6417-43e2-a326-40385510b2bc",
   "metadata": {},
   "outputs": [],
   "source": [
    "# **Step 1.5 : Creating a LSTM Neural Network Model for Numerical Analysis**"
   ]
  },
  {
   "cell_type": "code",
   "execution_count": 119,
   "id": "8a80cad0-ac56-4ef2-81af-db570f87439a",
   "metadata": {},
   "outputs": [
    {
     "name": "stdout",
     "output_type": "stream",
     "text": [
      "Epoch 1/100\n",
      "633/633 - 1s - loss: 0.0049 - 652ms/epoch - 1ms/step\n",
      "Epoch 2/100\n",
      "633/633 - 0s - loss: 1.6654e-05 - 225ms/epoch - 356us/step\n",
      "Epoch 3/100\n",
      "633/633 - 0s - loss: 1.5108e-05 - 232ms/epoch - 366us/step\n",
      "Epoch 4/100\n",
      "633/633 - 0s - loss: 1.4078e-05 - 227ms/epoch - 358us/step\n",
      "Epoch 5/100\n",
      "633/633 - 0s - loss: 1.4191e-05 - 229ms/epoch - 361us/step\n",
      "Epoch 6/100\n",
      "633/633 - 0s - loss: 1.4335e-05 - 230ms/epoch - 363us/step\n",
      "Epoch 7/100\n",
      "633/633 - 0s - loss: 1.4931e-05 - 241ms/epoch - 380us/step\n",
      "Epoch 8/100\n",
      "633/633 - 0s - loss: 1.4382e-05 - 228ms/epoch - 361us/step\n",
      "Epoch 9/100\n",
      "633/633 - 0s - loss: 1.4959e-05 - 226ms/epoch - 356us/step\n",
      "Epoch 10/100\n",
      "633/633 - 0s - loss: 1.5181e-05 - 225ms/epoch - 355us/step\n",
      "Epoch 11/100\n",
      "633/633 - 0s - loss: 1.6056e-05 - 227ms/epoch - 358us/step\n",
      "Epoch 12/100\n",
      "633/633 - 0s - loss: 1.5343e-05 - 225ms/epoch - 356us/step\n",
      "Epoch 13/100\n",
      "633/633 - 0s - loss: 1.4693e-05 - 226ms/epoch - 356us/step\n",
      "Epoch 14/100\n",
      "633/633 - 0s - loss: 1.5555e-05 - 225ms/epoch - 355us/step\n",
      "Epoch 15/100\n",
      "633/633 - 0s - loss: 1.5350e-05 - 225ms/epoch - 356us/step\n",
      "Epoch 16/100\n",
      "633/633 - 0s - loss: 1.5381e-05 - 226ms/epoch - 357us/step\n",
      "Epoch 17/100\n",
      "633/633 - 0s - loss: 1.5763e-05 - 225ms/epoch - 356us/step\n",
      "Epoch 18/100\n",
      "633/633 - 0s - loss: 1.4738e-05 - 240ms/epoch - 379us/step\n",
      "Epoch 19/100\n",
      "633/633 - 0s - loss: 1.5635e-05 - 225ms/epoch - 355us/step\n",
      "Epoch 20/100\n",
      "633/633 - 0s - loss: 1.5248e-05 - 216ms/epoch - 342us/step\n",
      "Epoch 21/100\n",
      "633/633 - 0s - loss: 1.4723e-05 - 224ms/epoch - 354us/step\n",
      "Epoch 22/100\n",
      "633/633 - 0s - loss: 1.4906e-05 - 272ms/epoch - 430us/step\n",
      "Epoch 23/100\n",
      "633/633 - 0s - loss: 1.4379e-05 - 224ms/epoch - 354us/step\n",
      "Epoch 24/100\n",
      "633/633 - 0s - loss: 1.4182e-05 - 250ms/epoch - 394us/step\n",
      "Epoch 25/100\n",
      "633/633 - 0s - loss: 1.4865e-05 - 256ms/epoch - 405us/step\n",
      "Epoch 26/100\n",
      "633/633 - 0s - loss: 1.3928e-05 - 229ms/epoch - 361us/step\n",
      "Epoch 27/100\n",
      "633/633 - 0s - loss: 1.5292e-05 - 225ms/epoch - 356us/step\n",
      "Epoch 28/100\n",
      "633/633 - 0s - loss: 1.4184e-05 - 225ms/epoch - 355us/step\n",
      "Epoch 29/100\n",
      "633/633 - 0s - loss: 1.4967e-05 - 225ms/epoch - 356us/step\n",
      "Epoch 30/100\n",
      "633/633 - 0s - loss: 1.3633e-05 - 225ms/epoch - 356us/step\n",
      "Epoch 31/100\n",
      "633/633 - 0s - loss: 1.4953e-05 - 226ms/epoch - 356us/step\n",
      "Epoch 32/100\n",
      "633/633 - 0s - loss: 1.3802e-05 - 226ms/epoch - 357us/step\n",
      "Epoch 33/100\n",
      "633/633 - 0s - loss: 1.3691e-05 - 246ms/epoch - 389us/step\n",
      "Epoch 34/100\n",
      "633/633 - 0s - loss: 1.3941e-05 - 227ms/epoch - 358us/step\n",
      "Epoch 35/100\n",
      "633/633 - 0s - loss: 1.4639e-05 - 225ms/epoch - 355us/step\n",
      "Epoch 36/100\n",
      "633/633 - 0s - loss: 1.3896e-05 - 225ms/epoch - 355us/step\n",
      "Epoch 37/100\n",
      "633/633 - 0s - loss: 1.3788e-05 - 226ms/epoch - 357us/step\n",
      "Epoch 38/100\n",
      "633/633 - 0s - loss: 1.4724e-05 - 225ms/epoch - 356us/step\n",
      "Epoch 39/100\n",
      "633/633 - 0s - loss: 1.4968e-05 - 244ms/epoch - 385us/step\n",
      "Epoch 40/100\n",
      "633/633 - 0s - loss: 1.3933e-05 - 252ms/epoch - 398us/step\n",
      "Epoch 41/100\n",
      "633/633 - 0s - loss: 1.3776e-05 - 229ms/epoch - 361us/step\n",
      "Epoch 42/100\n",
      "633/633 - 0s - loss: 1.4068e-05 - 226ms/epoch - 357us/step\n",
      "Epoch 43/100\n",
      "633/633 - 0s - loss: 1.4008e-05 - 226ms/epoch - 356us/step\n",
      "Epoch 44/100\n",
      "633/633 - 0s - loss: 1.3340e-05 - 225ms/epoch - 356us/step\n",
      "Epoch 45/100\n",
      "633/633 - 0s - loss: 1.3942e-05 - 223ms/epoch - 352us/step\n",
      "Epoch 46/100\n",
      "633/633 - 0s - loss: 1.3357e-05 - 224ms/epoch - 354us/step\n",
      "Epoch 47/100\n",
      "633/633 - 0s - loss: 1.3503e-05 - 224ms/epoch - 355us/step\n",
      "Epoch 48/100\n",
      "633/633 - 0s - loss: 1.2495e-05 - 225ms/epoch - 356us/step\n",
      "Epoch 49/100\n",
      "633/633 - 0s - loss: 1.2588e-05 - 223ms/epoch - 352us/step\n",
      "Epoch 50/100\n",
      "633/633 - 0s - loss: 1.2237e-05 - 226ms/epoch - 357us/step\n",
      "Epoch 51/100\n",
      "633/633 - 0s - loss: 1.2750e-05 - 261ms/epoch - 413us/step\n",
      "Epoch 52/100\n",
      "633/633 - 0s - loss: 1.2370e-05 - 232ms/epoch - 367us/step\n",
      "Epoch 53/100\n",
      "633/633 - 0s - loss: 1.2320e-05 - 227ms/epoch - 358us/step\n",
      "Epoch 54/100\n",
      "633/633 - 0s - loss: 1.1800e-05 - 229ms/epoch - 362us/step\n",
      "Epoch 55/100\n",
      "633/633 - 0s - loss: 1.1975e-05 - 225ms/epoch - 356us/step\n",
      "Epoch 56/100\n",
      "633/633 - 0s - loss: 1.2005e-05 - 226ms/epoch - 357us/step\n",
      "Epoch 57/100\n",
      "633/633 - 0s - loss: 1.2359e-05 - 225ms/epoch - 355us/step\n",
      "Epoch 58/100\n",
      "633/633 - 0s - loss: 1.2119e-05 - 226ms/epoch - 357us/step\n",
      "Epoch 59/100\n",
      "633/633 - 0s - loss: 1.2102e-05 - 224ms/epoch - 354us/step\n",
      "Epoch 60/100\n",
      "633/633 - 0s - loss: 1.1455e-05 - 224ms/epoch - 354us/step\n",
      "Epoch 61/100\n",
      "633/633 - 0s - loss: 1.2150e-05 - 225ms/epoch - 356us/step\n",
      "Epoch 62/100\n",
      "633/633 - 0s - loss: 1.1145e-05 - 225ms/epoch - 355us/step\n",
      "Epoch 63/100\n",
      "633/633 - 0s - loss: 1.2100e-05 - 226ms/epoch - 358us/step\n",
      "Epoch 64/100\n",
      "633/633 - 0s - loss: 1.1888e-05 - 224ms/epoch - 354us/step\n",
      "Epoch 65/100\n",
      "633/633 - 0s - loss: 1.1775e-05 - 227ms/epoch - 358us/step\n",
      "Epoch 66/100\n",
      "633/633 - 0s - loss: 1.1452e-05 - 224ms/epoch - 355us/step\n",
      "Epoch 67/100\n",
      "633/633 - 0s - loss: 1.1813e-05 - 225ms/epoch - 355us/step\n",
      "Epoch 68/100\n",
      "633/633 - 0s - loss: 1.1054e-05 - 224ms/epoch - 353us/step\n",
      "Epoch 69/100\n",
      "633/633 - 0s - loss: 1.1004e-05 - 263ms/epoch - 416us/step\n",
      "Epoch 70/100\n",
      "633/633 - 0s - loss: 1.1879e-05 - 226ms/epoch - 357us/step\n",
      "Epoch 71/100\n",
      "633/633 - 0s - loss: 1.1196e-05 - 227ms/epoch - 358us/step\n",
      "Epoch 72/100\n",
      "633/633 - 0s - loss: 1.1276e-05 - 226ms/epoch - 357us/step\n",
      "Epoch 73/100\n",
      "633/633 - 0s - loss: 1.0618e-05 - 225ms/epoch - 355us/step\n",
      "Epoch 74/100\n",
      "633/633 - 0s - loss: 1.0847e-05 - 225ms/epoch - 356us/step\n",
      "Epoch 75/100\n",
      "633/633 - 0s - loss: 1.1846e-05 - 225ms/epoch - 356us/step\n",
      "Epoch 76/100\n",
      "633/633 - 0s - loss: 1.1420e-05 - 224ms/epoch - 354us/step\n",
      "Epoch 77/100\n",
      "633/633 - 0s - loss: 1.1462e-05 - 224ms/epoch - 354us/step\n",
      "Epoch 78/100\n",
      "633/633 - 0s - loss: 1.1041e-05 - 225ms/epoch - 356us/step\n",
      "Epoch 79/100\n",
      "633/633 - 0s - loss: 1.1436e-05 - 224ms/epoch - 354us/step\n",
      "Epoch 80/100\n",
      "633/633 - 0s - loss: 1.1011e-05 - 227ms/epoch - 358us/step\n",
      "Epoch 81/100\n",
      "633/633 - 0s - loss: 1.0870e-05 - 252ms/epoch - 399us/step\n",
      "Epoch 82/100\n",
      "633/633 - 0s - loss: 1.1076e-05 - 254ms/epoch - 402us/step\n",
      "Epoch 83/100\n",
      "633/633 - 0s - loss: 1.1341e-05 - 254ms/epoch - 401us/step\n",
      "Epoch 84/100\n",
      "633/633 - 0s - loss: 1.0697e-05 - 248ms/epoch - 392us/step\n",
      "Epoch 85/100\n",
      "633/633 - 0s - loss: 1.1455e-05 - 230ms/epoch - 363us/step\n",
      "Epoch 86/100\n",
      "633/633 - 0s - loss: 1.1550e-05 - 229ms/epoch - 361us/step\n",
      "Epoch 87/100\n",
      "633/633 - 0s - loss: 1.0831e-05 - 221ms/epoch - 350us/step\n",
      "Epoch 88/100\n",
      "633/633 - 0s - loss: 1.1038e-05 - 222ms/epoch - 350us/step\n",
      "Epoch 89/100\n",
      "633/633 - 0s - loss: 1.1276e-05 - 214ms/epoch - 338us/step\n",
      "Epoch 90/100\n",
      "633/633 - 0s - loss: 1.1336e-05 - 218ms/epoch - 345us/step\n",
      "Epoch 91/100\n",
      "633/633 - 0s - loss: 1.1365e-05 - 234ms/epoch - 369us/step\n",
      "Epoch 92/100\n",
      "633/633 - 0s - loss: 1.0893e-05 - 224ms/epoch - 355us/step\n",
      "Epoch 93/100\n",
      "633/633 - 0s - loss: 1.1438e-05 - 225ms/epoch - 356us/step\n",
      "Epoch 94/100\n",
      "633/633 - 0s - loss: 1.0409e-05 - 225ms/epoch - 355us/step\n",
      "Epoch 95/100\n",
      "633/633 - 0s - loss: 1.1281e-05 - 225ms/epoch - 356us/step\n",
      "Epoch 96/100\n",
      "633/633 - 0s - loss: 1.1118e-05 - 227ms/epoch - 359us/step\n",
      "Epoch 97/100\n",
      "633/633 - 0s - loss: 1.0838e-05 - 238ms/epoch - 376us/step\n",
      "Epoch 98/100\n",
      "633/633 - 0s - loss: 1.0810e-05 - 233ms/epoch - 368us/step\n",
      "Epoch 99/100\n",
      "633/633 - 0s - loss: 1.1124e-05 - 224ms/epoch - 354us/step\n",
      "Epoch 100/100\n",
      "633/633 - 0s - loss: 1.0951e-05 - 264ms/epoch - 417us/step\n"
     ]
    },
    {
     "data": {
      "text/plain": [
       "<keras.src.callbacks.History at 0x175ed1710>"
      ]
     },
     "execution_count": 119,
     "metadata": {},
     "output_type": "execute_result"
    }
   ],
   "source": [
    "# create and fit the LSTM networkworkbench.action.openLargeOutput\n",
    "model = Sequential()\n",
    "model.add(LSTM(7, input_shape=(look_back, 1)))\n",
    "model.add(Dense(1))\n",
    "model.compile(loss='mean_squared_error', optimizer='adam')\n",
    "model.fit(trainX, trainY, epochs=100, batch_size=5, verbose=2)"
   ]
  },
  {
   "cell_type": "code",
   "execution_count": 120,
   "id": "d81aec70-b16c-4905-90ed-31311b835225",
   "metadata": {},
   "outputs": [],
   "source": [
    "# **Step 1.6 : Making Predictions of the Model**"
   ]
  },
  {
   "cell_type": "code",
   "execution_count": 121,
   "id": "69d4fed7-69de-45ac-bd8b-78f0eabc07c8",
   "metadata": {},
   "outputs": [
    {
     "name": "stdout",
     "output_type": "stream",
     "text": [
      "99/99 [==============================] - 0s 312us/step\n",
      "49/49 [==============================] - 0s 293us/step\n"
     ]
    }
   ],
   "source": [
    "# make predictions\n",
    "trainPredict = model.predict(trainX)\n",
    "testPredict = model.predict(testX)\n",
    "# invert predictions\n",
    "trainPredict = scaler.inverse_transform(trainPredict)\n",
    "trainY = scaler.inverse_transform([trainY])\n",
    "testPredict = scaler.inverse_transform(testPredict)\n",
    "testY = scaler.inverse_transform([testY])"
   ]
  },
  {
   "cell_type": "code",
   "execution_count": 122,
   "id": "b1b59223-48df-4eef-9ff4-06390cc54fdc",
   "metadata": {},
   "outputs": [
    {
     "data": {
      "image/png": "[encoded data removed]",
      "text/plain": [
       "<Figure size 640x480 with 1 Axes>"
      ]
     },
     "metadata": {},
     "output_type": "display_data"
    }
   ],
   "source": [
    "# shift train predictions for plotting\n",
    "trainPredictPlot = np.empty_like(df2)\n",
    "trainPredictPlot[:, :] = np.nan\n",
    "trainPredictPlot[look_back:len(trainPredict)+look_back, :] = trainPredict\n",
    "# shift test predictions for plotting\n",
    "testPredictPlot = np.empty_like(df2)\n",
    "testPredictPlot[:, :] = np.nan\n",
    "testPredictPlot[len(trainPredict)+(look_back*2)+1:len(df2)-1, :] = testPredict\n",
    "# plot baseline and predictions\n",
    "plt.plot(scaler.inverse_transform(df2), label = 'Actual Data')\n",
    "plt.title('MRF Stock Price Prediction from last 17 years Data')\n",
    "plt.xlabel('Time')\n",
    "plt.ylabel('Actual Stock Price')\n",
    "plt.plot(trainPredictPlot,color='#DE3163', label = 'Train Predicted Data')\n",
    "plt.plot(testPredictPlot, color='#FFC300', label = 'Test Predicted Data')\n",
    "plt.legend(loc='best')\n",
    "plt.show()"
   ]
  },
  {
   "cell_type": "code",
   "execution_count": 123,
   "id": "3b888f7b-b472-4a35-8fde-56d48463e31a",
   "metadata": {},
   "outputs": [
    {
     "name": "stdout",
     "output_type": "stream",
     "text": [
      "Root mean square error of Training  =  467.8163477618451  RMSE\n",
      "Root mean square error of Testing =  1754.674892482021  RMSE\n"
     ]
    }
   ],
   "source": [
    "# calculate root mean squared error\n",
    "trainScore = math.sqrt(mean_squared_error(trainY[0], trainPredict[:,0]))\n",
    "print(\"Root mean square error of Training  = \",trainScore,\" RMSE\")\n",
    "testScore = math.sqrt(mean_squared_error(testY[0], testPredict[:,0]))\n",
    "print(\"Root mean square error of Testing = \",testScore,\" RMSE\")\n"
   ]
  },
  {
   "cell_type": "code",
   "execution_count": null,
   "id": "15216de5-12f8-4743-93c3-d529e759e344",
   "metadata": {},
   "outputs": [],
   "source": [
    "# **Step 2: Textual Data(News Headlines) Analysis**"
   ]
  },
  {
   "cell_type": "code",
   "execution_count": null,
   "id": "6f1d3031-5021-4f34-b463-998735d79187",
   "metadata": {},
   "outputs": [],
   "source": [
    "# **Step 2.1:  Importing Required Libraries for Textual (News Headlines) analysis**"
   ]
  },
  {
   "cell_type": "code",
   "execution_count": 26,
   "id": "17055d55-e90b-4d81-a1e9-30748948d8bf",
   "metadata": {},
   "outputs": [],
   "source": [
    "import pandas as pd\n",
    "import numpy as np\n",
    "import matplotlib.pyplot as plt\n",
    "from textblob import TextBlob\n",
    "from datetime import datetime"
   ]
  },
  {
   "cell_type": "code",
   "execution_count": null,
   "id": "9bb2c7a9-af04-48ea-ba90-a7ae9cfeb2f2",
   "metadata": {},
   "outputs": [],
   "source": [
    "# **Step 2.2 : Importing the Textual dataset and performing Exploratory Analysis**"
   ]
  },
  {
   "cell_type": "code",
   "execution_count": 27,
   "id": "b78cd220-f004-46c8-b774-92340050041b",
   "metadata": {},
   "outputs": [
    {
     "data": {
      "text/html": [
       "<div>\n",
       "<style scoped>\n",
       "    .dataframe tbody tr th:only-of-type {\n",
       "        vertical-align: middle;\n",
       "    }\n",
       "\n",
       "    .dataframe tbody tr th {\n",
       "        vertical-align: top;\n",
       "    }\n",
       "\n",
       "    .dataframe thead th {\n",
       "        text-align: right;\n",
       "    }\n",
       "</style>\n",
       "<table border=\"1\" class=\"dataframe\">\n",
       "  <thead>\n",
       "    <tr style=\"text-align: right;\">\n",
       "      <th></th>\n",
       "      <th>publish_date</th>\n",
       "      <th>headline_category</th>\n",
       "      <th>headline_text</th>\n",
       "    </tr>\n",
       "  </thead>\n",
       "  <tbody>\n",
       "    <tr>\n",
       "      <th>0</th>\n",
       "      <td>20010102</td>\n",
       "      <td>unknown</td>\n",
       "      <td>Status quo will not be disturbed at Ayodhya; s...</td>\n",
       "    </tr>\n",
       "    <tr>\n",
       "      <th>1</th>\n",
       "      <td>20010102</td>\n",
       "      <td>unknown</td>\n",
       "      <td>Fissures in Hurriyat over Pak visit</td>\n",
       "    </tr>\n",
       "    <tr>\n",
       "      <th>2</th>\n",
       "      <td>20010102</td>\n",
       "      <td>unknown</td>\n",
       "      <td>America's unwanted heading for India?</td>\n",
       "    </tr>\n",
       "    <tr>\n",
       "      <th>3</th>\n",
       "      <td>20010102</td>\n",
       "      <td>unknown</td>\n",
       "      <td>For bigwigs; it is destination Goa</td>\n",
       "    </tr>\n",
       "    <tr>\n",
       "      <th>4</th>\n",
       "      <td>20010102</td>\n",
       "      <td>unknown</td>\n",
       "      <td>Extra buses to clear tourist traffic</td>\n",
       "    </tr>\n",
       "  </tbody>\n",
       "</table>\n",
       "</div>"
      ],
      "text/plain": [
       "   publish_date headline_category  \\\n",
       "0      20010102           unknown   \n",
       "1      20010102           unknown   \n",
       "2      20010102           unknown   \n",
       "3      20010102           unknown   \n",
       "4      20010102           unknown   \n",
       "\n",
       "                                       headline_text  \n",
       "0  Status quo will not be disturbed at Ayodhya; s...  \n",
       "1                Fissures in Hurriyat over Pak visit  \n",
       "2              America's unwanted heading for India?  \n",
       "3                 For bigwigs; it is destination Goa  \n",
       "4               Extra buses to clear tourist traffic  "
      ]
     },
     "execution_count": 27,
     "metadata": {},
     "output_type": "execute_result"
    }
   ],
   "source": [
    "data = pd.read_csv('india-news-headlines.csv')\n",
    "data.head()"
   ]
  },
  {
   "cell_type": "code",
   "execution_count": 28,
   "id": "e50bfe62-87e5-4c12-b928-b60de3396a18",
   "metadata": {},
   "outputs": [
    {
     "data": {
      "text/plain": [
       "0          False\n",
       "1           True\n",
       "2           True\n",
       "3           True\n",
       "4           True\n",
       "           ...  \n",
       "3650965     True\n",
       "3650966     True\n",
       "3650967     True\n",
       "3650968     True\n",
       "3650969     True\n",
       "Name: publish_date, Length: 3650970, dtype: bool"
      ]
     },
     "execution_count": 28,
     "metadata": {},
     "output_type": "execute_result"
    }
   ],
   "source": [
    "data['publish_date'].duplicated()"
   ]
  },
  {
   "cell_type": "code",
   "execution_count": 29,
   "id": "01b964ee-c55b-4379-ab32-aae1c0a907ef",
   "metadata": {},
   "outputs": [],
   "source": [
    "data = data.drop_duplicates('publish_date', keep='first').sort_index()\n",
    "data= data.reset_index()"
   ]
  },
  {
   "cell_type": "code",
   "execution_count": 30,
   "id": "b6914285-3fc9-44f9-baa4-0c1b0b49133f",
   "metadata": {},
   "outputs": [
    {
     "data": {
      "text/html": [
       "<div>\n",
       "<style scoped>\n",
       "    .dataframe tbody tr th:only-of-type {\n",
       "        vertical-align: middle;\n",
       "    }\n",
       "\n",
       "    .dataframe tbody tr th {\n",
       "        vertical-align: top;\n",
       "    }\n",
       "\n",
       "    .dataframe thead th {\n",
       "        text-align: right;\n",
       "    }\n",
       "</style>\n",
       "<table border=\"1\" class=\"dataframe\">\n",
       "  <thead>\n",
       "    <tr style=\"text-align: right;\">\n",
       "      <th></th>\n",
       "      <th>index</th>\n",
       "      <th>Date</th>\n",
       "      <th>headline_category</th>\n",
       "      <th>headline_text</th>\n",
       "    </tr>\n",
       "  </thead>\n",
       "  <tbody>\n",
       "    <tr>\n",
       "      <th>0</th>\n",
       "      <td>0</td>\n",
       "      <td>20010102</td>\n",
       "      <td>unknown</td>\n",
       "      <td>Status quo will not be disturbed at Ayodhya; s...</td>\n",
       "    </tr>\n",
       "    <tr>\n",
       "      <th>1</th>\n",
       "      <td>86</td>\n",
       "      <td>20010103</td>\n",
       "      <td>unknown</td>\n",
       "      <td>Powerless north India gropes in the dark</td>\n",
       "    </tr>\n",
       "    <tr>\n",
       "      <th>2</th>\n",
       "      <td>127</td>\n",
       "      <td>20010104</td>\n",
       "      <td>unknown</td>\n",
       "      <td>The string that pulled Stephen Hawking to India</td>\n",
       "    </tr>\n",
       "    <tr>\n",
       "      <th>3</th>\n",
       "      <td>280</td>\n",
       "      <td>20010105</td>\n",
       "      <td>unknown</td>\n",
       "      <td>Light combat craft takes India into club class</td>\n",
       "    </tr>\n",
       "    <tr>\n",
       "      <th>4</th>\n",
       "      <td>406</td>\n",
       "      <td>20010106</td>\n",
       "      <td>unknown</td>\n",
       "      <td>Light combat craft takes India into club class</td>\n",
       "    </tr>\n",
       "  </tbody>\n",
       "</table>\n",
       "</div>"
      ],
      "text/plain": [
       "   index      Date headline_category  \\\n",
       "0      0  20010102           unknown   \n",
       "1     86  20010103           unknown   \n",
       "2    127  20010104           unknown   \n",
       "3    280  20010105           unknown   \n",
       "4    406  20010106           unknown   \n",
       "\n",
       "                                       headline_text  \n",
       "0  Status quo will not be disturbed at Ayodhya; s...  \n",
       "1           Powerless north India gropes in the dark  \n",
       "2    The string that pulled Stephen Hawking to India  \n",
       "3     Light combat craft takes India into club class  \n",
       "4     Light combat craft takes India into club class  "
      ]
     },
     "execution_count": 30,
     "metadata": {},
     "output_type": "execute_result"
    }
   ],
   "source": [
    "data.rename(columns={'publish_date': 'Date'},inplace = True)\n",
    "data.head()"
   ]
  },
  {
   "cell_type": "code",
   "execution_count": 31,
   "id": "82c68590-d5d4-4242-a834-cfc7df15078b",
   "metadata": {},
   "outputs": [
    {
     "name": "stdout",
     "output_type": "stream",
     "text": [
      "<class 'pandas.core.frame.DataFrame'>\n",
      "RangeIndex: 7717 entries, 0 to 7716\n",
      "Data columns (total 4 columns):\n",
      " #   Column             Non-Null Count  Dtype \n",
      "---  ------             --------------  ----- \n",
      " 0   index              7717 non-null   int64 \n",
      " 1   Date               7717 non-null   int64 \n",
      " 2   headline_category  7717 non-null   object\n",
      " 3   headline_text      7717 non-null   object\n",
      "dtypes: int64(2), object(2)\n",
      "memory usage: 241.3+ KB\n"
     ]
    }
   ],
   "source": [
    "data.info()"
   ]
  },
  {
   "cell_type": "code",
   "execution_count": 32,
   "id": "c493581a-d6c3-414b-b2b2-77d7e8df31a0",
   "metadata": {},
   "outputs": [
    {
     "data": {
      "text/plain": [
       "headline_category\n",
       "unknown                                  987\n",
       "entertainment.hindi.bollywood            732\n",
       "india                                    343\n",
       "life-style.relationships.man-woman       332\n",
       "edit-page                                256\n",
       "                                        ... \n",
       "shobhaa-de.politically-incorrect           1\n",
       "city.jammu                                 1\n",
       "friendship-day                             1\n",
       "entertainment.marathi.movies.previews      1\n",
       "astrology.horoscope.yearly                 1\n",
       "Name: count, Length: 330, dtype: int64"
      ]
     },
     "execution_count": 32,
     "metadata": {},
     "output_type": "execute_result"
    }
   ],
   "source": [
    "data['headline_category'].value_counts()"
   ]
  },
  {
   "cell_type": "code",
   "execution_count": 33,
   "id": "879edb7a-e4e7-4155-8123-ff0a29350817",
   "metadata": {},
   "outputs": [
    {
     "data": {
      "text/html": [
       "<div>\n",
       "<style scoped>\n",
       "    .dataframe tbody tr th:only-of-type {\n",
       "        vertical-align: middle;\n",
       "    }\n",
       "\n",
       "    .dataframe tbody tr th {\n",
       "        vertical-align: top;\n",
       "    }\n",
       "\n",
       "    .dataframe thead th {\n",
       "        text-align: right;\n",
       "    }\n",
       "</style>\n",
       "<table border=\"1\" class=\"dataframe\">\n",
       "  <thead>\n",
       "    <tr style=\"text-align: right;\">\n",
       "      <th></th>\n",
       "      <th>index</th>\n",
       "      <th>Date</th>\n",
       "      <th>headline_category</th>\n",
       "      <th>headline_text</th>\n",
       "    </tr>\n",
       "  </thead>\n",
       "  <tbody>\n",
       "    <tr>\n",
       "      <th>8</th>\n",
       "      <td>642</td>\n",
       "      <td>20010110</td>\n",
       "      <td>city.patna</td>\n",
       "      <td>Fend for yourselves; Pande tells doctors</td>\n",
       "    </tr>\n",
       "    <tr>\n",
       "      <th>48</th>\n",
       "      <td>2215</td>\n",
       "      <td>20010309</td>\n",
       "      <td>city.delhi</td>\n",
       "      <td>Maneka asks govt to take back land for cow she...</td>\n",
       "    </tr>\n",
       "    <tr>\n",
       "      <th>114</th>\n",
       "      <td>4563</td>\n",
       "      <td>20010522</td>\n",
       "      <td>city.pune</td>\n",
       "      <td>She turned and fought</td>\n",
       "    </tr>\n",
       "    <tr>\n",
       "      <th>116</th>\n",
       "      <td>4693</td>\n",
       "      <td>20010527</td>\n",
       "      <td>city.bengaluru</td>\n",
       "      <td>Need to boost exports; says bank head</td>\n",
       "    </tr>\n",
       "    <tr>\n",
       "      <th>118</th>\n",
       "      <td>4917</td>\n",
       "      <td>20010529</td>\n",
       "      <td>city.bengaluru</td>\n",
       "      <td>US visit won't be piece of cake for Krishna</td>\n",
       "    </tr>\n",
       "    <tr>\n",
       "      <th>...</th>\n",
       "      <td>...</td>\n",
       "      <td>...</td>\n",
       "      <td>...</td>\n",
       "      <td>...</td>\n",
       "    </tr>\n",
       "    <tr>\n",
       "      <th>7700</th>\n",
       "      <td>3642496</td>\n",
       "      <td>20220315</td>\n",
       "      <td>city.mumbai</td>\n",
       "      <td>Mumbaikars enjoy nightlife once more as restau...</td>\n",
       "    </tr>\n",
       "    <tr>\n",
       "      <th>7703</th>\n",
       "      <td>3643993</td>\n",
       "      <td>20220318</td>\n",
       "      <td>city.mumbai</td>\n",
       "      <td>Mumbai salons and spas deal with heavy demand ...</td>\n",
       "    </tr>\n",
       "    <tr>\n",
       "      <th>7707</th>\n",
       "      <td>3645983</td>\n",
       "      <td>20220322</td>\n",
       "      <td>city.patna</td>\n",
       "      <td>Sikta MLA pleads for police reform</td>\n",
       "    </tr>\n",
       "    <tr>\n",
       "      <th>7710</th>\n",
       "      <td>3647476</td>\n",
       "      <td>20220325</td>\n",
       "      <td>city.delhi</td>\n",
       "      <td>Speeding up; shortcuts and tackling unruly cus...</td>\n",
       "    </tr>\n",
       "    <tr>\n",
       "      <th>7711</th>\n",
       "      <td>3647974</td>\n",
       "      <td>20220326</td>\n",
       "      <td>city.mumbai</td>\n",
       "      <td>Mumbai celebrates World Theatre Day with speci...</td>\n",
       "    </tr>\n",
       "  </tbody>\n",
       "</table>\n",
       "<p>1417 rows × 4 columns</p>\n",
       "</div>"
      ],
      "text/plain": [
       "        index      Date headline_category  \\\n",
       "8         642  20010110        city.patna   \n",
       "48       2215  20010309        city.delhi   \n",
       "114      4563  20010522         city.pune   \n",
       "116      4693  20010527    city.bengaluru   \n",
       "118      4917  20010529    city.bengaluru   \n",
       "...       ...       ...               ...   \n",
       "7700  3642496  20220315       city.mumbai   \n",
       "7703  3643993  20220318       city.mumbai   \n",
       "7707  3645983  20220322        city.patna   \n",
       "7710  3647476  20220325        city.delhi   \n",
       "7711  3647974  20220326       city.mumbai   \n",
       "\n",
       "                                          headline_text  \n",
       "8              Fend for yourselves; Pande tells doctors  \n",
       "48    Maneka asks govt to take back land for cow she...  \n",
       "114                               She turned and fought  \n",
       "116               Need to boost exports; says bank head  \n",
       "118         US visit won't be piece of cake for Krishna  \n",
       "...                                                 ...  \n",
       "7700  Mumbaikars enjoy nightlife once more as restau...  \n",
       "7703  Mumbai salons and spas deal with heavy demand ...  \n",
       "7707                 Sikta MLA pleads for police reform  \n",
       "7710  Speeding up; shortcuts and tackling unruly cus...  \n",
       "7711  Mumbai celebrates World Theatre Day with speci...  \n",
       "\n",
       "[1417 rows x 4 columns]"
      ]
     },
     "execution_count": 33,
     "metadata": {},
     "output_type": "execute_result"
    }
   ],
   "source": [
    "city_data = data[data['headline_category'].str.contains('^city\\.[a-z]+$', regex=True)]\n",
    "city_data"
   ]
  },
  {
   "cell_type": "code",
   "execution_count": 34,
   "id": "3635f443-a244-4555-991a-3e8f351fc10f",
   "metadata": {},
   "outputs": [],
   "source": [
    "city_split = pd.DataFrame(columns=['city_name'])"
   ]
  },
  {
   "cell_type": "code",
   "execution_count": 35,
   "id": "f06a44da-ae84-4664-8e0c-229b12baa94c",
   "metadata": {},
   "outputs": [],
   "source": [
    "city_split['city_name'] = city_data.headline_category.str.split('.',expand=True)[1]"
   ]
  },
  {
   "cell_type": "code",
   "execution_count": 36,
   "id": "2b592550-38d7-4cbc-ad5b-e094a100f58b",
   "metadata": {},
   "outputs": [],
   "source": [
    "# concate the data set city_data and city_split\n",
    "city_data = pd.concat([city_data,city_split],axis=1)"
   ]
  },
  {
   "cell_type": "code",
   "execution_count": 37,
   "id": "9a37a1b5-e617-40a5-9604-96a005ba7a69",
   "metadata": {},
   "outputs": [],
   "source": [
    "# removing unnecessary column from dataset\n",
    "city_data.drop(columns=['headline_category'],axis=1, inplace=True)"
   ]
  },
  {
   "cell_type": "code",
   "execution_count": 38,
   "id": "a8524270-7882-4119-abf7-1cb1f95ca864",
   "metadata": {},
   "outputs": [],
   "source": [
    "# re-setting the index\n",
    "city_data.reset_index(inplace=True)"
   ]
  },
  {
   "cell_type": "code",
   "execution_count": 39,
   "id": "6c8cd949-b93e-4e37-b407-effd6413865d",
   "metadata": {},
   "outputs": [
    {
     "data": {
      "text/html": [
       "<div>\n",
       "<style scoped>\n",
       "    .dataframe tbody tr th:only-of-type {\n",
       "        vertical-align: middle;\n",
       "    }\n",
       "\n",
       "    .dataframe tbody tr th {\n",
       "        vertical-align: top;\n",
       "    }\n",
       "\n",
       "    .dataframe thead th {\n",
       "        text-align: right;\n",
       "    }\n",
       "</style>\n",
       "<table border=\"1\" class=\"dataframe\">\n",
       "  <thead>\n",
       "    <tr style=\"text-align: right;\">\n",
       "      <th></th>\n",
       "      <th>level_0</th>\n",
       "      <th>index</th>\n",
       "      <th>Date</th>\n",
       "      <th>headline_text</th>\n",
       "      <th>city_name</th>\n",
       "    </tr>\n",
       "  </thead>\n",
       "  <tbody>\n",
       "    <tr>\n",
       "      <th>0</th>\n",
       "      <td>8</td>\n",
       "      <td>642</td>\n",
       "      <td>20010110</td>\n",
       "      <td>Fend for yourselves; Pande tells doctors</td>\n",
       "      <td>patna</td>\n",
       "    </tr>\n",
       "    <tr>\n",
       "      <th>1</th>\n",
       "      <td>48</td>\n",
       "      <td>2215</td>\n",
       "      <td>20010309</td>\n",
       "      <td>Maneka asks govt to take back land for cow she...</td>\n",
       "      <td>delhi</td>\n",
       "    </tr>\n",
       "    <tr>\n",
       "      <th>2</th>\n",
       "      <td>114</td>\n",
       "      <td>4563</td>\n",
       "      <td>20010522</td>\n",
       "      <td>She turned and fought</td>\n",
       "      <td>pune</td>\n",
       "    </tr>\n",
       "    <tr>\n",
       "      <th>3</th>\n",
       "      <td>116</td>\n",
       "      <td>4693</td>\n",
       "      <td>20010527</td>\n",
       "      <td>Need to boost exports; says bank head</td>\n",
       "      <td>bengaluru</td>\n",
       "    </tr>\n",
       "    <tr>\n",
       "      <th>4</th>\n",
       "      <td>118</td>\n",
       "      <td>4917</td>\n",
       "      <td>20010529</td>\n",
       "      <td>US visit won't be piece of cake for Krishna</td>\n",
       "      <td>bengaluru</td>\n",
       "    </tr>\n",
       "  </tbody>\n",
       "</table>\n",
       "</div>"
      ],
      "text/plain": [
       "   level_0  index      Date  \\\n",
       "0        8    642  20010110   \n",
       "1       48   2215  20010309   \n",
       "2      114   4563  20010522   \n",
       "3      116   4693  20010527   \n",
       "4      118   4917  20010529   \n",
       "\n",
       "                                       headline_text  city_name  \n",
       "0           Fend for yourselves; Pande tells doctors      patna  \n",
       "1  Maneka asks govt to take back land for cow she...      delhi  \n",
       "2                              She turned and fought       pune  \n",
       "3              Need to boost exports; says bank head  bengaluru  \n",
       "4        US visit won't be piece of cake for Krishna  bengaluru  "
      ]
     },
     "execution_count": 39,
     "metadata": {},
     "output_type": "execute_result"
    }
   ],
   "source": [
    "# see the final data which contain city_name column\n",
    "city_data.head()"
   ]
  },
  {
   "cell_type": "code",
   "execution_count": 41,
   "id": "44274fa4-3dcb-4b92-b1c3-13522fc11562",
   "metadata": {},
   "outputs": [
    {
     "data": {
      "text/html": [
       "<div>\n",
       "<style scoped>\n",
       "    .dataframe tbody tr th:only-of-type {\n",
       "        vertical-align: middle;\n",
       "    }\n",
       "\n",
       "    .dataframe tbody tr th {\n",
       "        vertical-align: top;\n",
       "    }\n",
       "\n",
       "    .dataframe thead th {\n",
       "        text-align: right;\n",
       "    }\n",
       "</style>\n",
       "<table border=\"1\" class=\"dataframe\">\n",
       "  <thead>\n",
       "    <tr style=\"text-align: right;\">\n",
       "      <th></th>\n",
       "      <th>Date</th>\n",
       "      <th>headline_text</th>\n",
       "      <th>city_name</th>\n",
       "    </tr>\n",
       "  </thead>\n",
       "  <tbody>\n",
       "    <tr>\n",
       "      <th>0</th>\n",
       "      <td>20010110</td>\n",
       "      <td>Fend for yourselves; Pande tells doctors</td>\n",
       "      <td>patna</td>\n",
       "    </tr>\n",
       "    <tr>\n",
       "      <th>1</th>\n",
       "      <td>20010309</td>\n",
       "      <td>Maneka asks govt to take back land for cow she...</td>\n",
       "      <td>delhi</td>\n",
       "    </tr>\n",
       "    <tr>\n",
       "      <th>2</th>\n",
       "      <td>20010522</td>\n",
       "      <td>She turned and fought</td>\n",
       "      <td>pune</td>\n",
       "    </tr>\n",
       "    <tr>\n",
       "      <th>3</th>\n",
       "      <td>20010527</td>\n",
       "      <td>Need to boost exports; says bank head</td>\n",
       "      <td>bengaluru</td>\n",
       "    </tr>\n",
       "    <tr>\n",
       "      <th>4</th>\n",
       "      <td>20010529</td>\n",
       "      <td>US visit won't be piece of cake for Krishna</td>\n",
       "      <td>bengaluru</td>\n",
       "    </tr>\n",
       "    <tr>\n",
       "      <th>...</th>\n",
       "      <td>...</td>\n",
       "      <td>...</td>\n",
       "      <td>...</td>\n",
       "    </tr>\n",
       "    <tr>\n",
       "      <th>1412</th>\n",
       "      <td>20220315</td>\n",
       "      <td>Mumbaikars enjoy nightlife once more as restau...</td>\n",
       "      <td>mumbai</td>\n",
       "    </tr>\n",
       "    <tr>\n",
       "      <th>1413</th>\n",
       "      <td>20220318</td>\n",
       "      <td>Mumbai salons and spas deal with heavy demand ...</td>\n",
       "      <td>mumbai</td>\n",
       "    </tr>\n",
       "    <tr>\n",
       "      <th>1414</th>\n",
       "      <td>20220322</td>\n",
       "      <td>Sikta MLA pleads for police reform</td>\n",
       "      <td>patna</td>\n",
       "    </tr>\n",
       "    <tr>\n",
       "      <th>1415</th>\n",
       "      <td>20220325</td>\n",
       "      <td>Speeding up; shortcuts and tackling unruly cus...</td>\n",
       "      <td>delhi</td>\n",
       "    </tr>\n",
       "    <tr>\n",
       "      <th>1416</th>\n",
       "      <td>20220326</td>\n",
       "      <td>Mumbai celebrates World Theatre Day with speci...</td>\n",
       "      <td>mumbai</td>\n",
       "    </tr>\n",
       "  </tbody>\n",
       "</table>\n",
       "<p>1417 rows × 3 columns</p>\n",
       "</div>"
      ],
      "text/plain": [
       "          Date                                      headline_text  city_name\n",
       "0     20010110           Fend for yourselves; Pande tells doctors      patna\n",
       "1     20010309  Maneka asks govt to take back land for cow she...      delhi\n",
       "2     20010522                              She turned and fought       pune\n",
       "3     20010527              Need to boost exports; says bank head  bengaluru\n",
       "4     20010529        US visit won't be piece of cake for Krishna  bengaluru\n",
       "...        ...                                                ...        ...\n",
       "1412  20220315  Mumbaikars enjoy nightlife once more as restau...     mumbai\n",
       "1413  20220318  Mumbai salons and spas deal with heavy demand ...     mumbai\n",
       "1414  20220322                 Sikta MLA pleads for police reform      patna\n",
       "1415  20220325  Speeding up; shortcuts and tackling unruly cus...      delhi\n",
       "1416  20220326  Mumbai celebrates World Theatre Day with speci...     mumbai\n",
       "\n",
       "[1417 rows x 3 columns]"
      ]
     },
     "execution_count": 41,
     "metadata": {},
     "output_type": "execute_result"
    }
   ],
   "source": [
    "city_data.drop(['level_0', 'index'],axis=1)"
   ]
  },
  {
   "cell_type": "code",
   "execution_count": 40,
   "id": "ed22fce0-95f2-4735-820b-1340a84e5b34",
   "metadata": {},
   "outputs": [
    {
     "data": {
      "text/plain": [
       "array(['patna', 'delhi', 'pune', 'bengaluru', 'ahmedabad', 'mumbai',\n",
       "       'thiruvananthapuram', 'kolkata', 'hyderabad', 'lucknow',\n",
       "       'chandigarh', 'goa', 'nagpur', 'guwahati', 'rajkot', 'bhubaneswar',\n",
       "       'surat', 'allahabad', 'varanasi', 'vadodara', 'mangaluru',\n",
       "       'ranchi', 'jaipur', 'ludhiana', 'mysuru', 'kanpur', 'thane',\n",
       "       'hubballi', 'kochi', 'navimumbai', 'gurgaon', 'indore', 'kolhapur',\n",
       "       'agartala', 'madurai', 'bareilly', 'aurangabad', 'meerut',\n",
       "       'visakhapatnam', 'trichy', 'coimbatore', 'jammu', 'dehradun',\n",
       "       'nashik', 'noida', 'puducherry', 'erode', 'chennai', 'jind',\n",
       "       'ghaziabad', 'bhopal', 'jamshedpur', 'vijayawada', 'agra',\n",
       "       'shimla', 'amritsar'], dtype=object)"
      ]
     },
     "execution_count": 40,
     "metadata": {},
     "output_type": "execute_result"
    }
   ],
   "source": [
    "# there are so many cities which we can see\n",
    "city_data.city_name.unique()"
   ]
  },
  {
   "cell_type": "code",
   "execution_count": null,
   "id": "737d1937-231b-4056-a392-6890bc248fa6",
   "metadata": {},
   "outputs": [],
   "source": [
    "# **Step 2.3: Representing number of headline text (News Headline) per city**"
   ]
  },
  {
   "cell_type": "code",
   "execution_count": 42,
   "id": "739e1db6-4267-4dd1-8681-a4dd2d27d9be",
   "metadata": {},
   "outputs": [],
   "source": [
    "# create a group of cities and let's see which city have, how many no. of headine text\n",
    "city_headline = city_data.groupby(['city_name']).agg({'headline_text':'count'})"
   ]
  },
  {
   "cell_type": "code",
   "execution_count": 43,
   "id": "c8b6f3e1-c30c-478d-bee1-7f84fa155d8e",
   "metadata": {},
   "outputs": [],
   "source": [
    "#for better understanding remane the column\n",
    "city_headline.rename(columns={'headline_text':'Number_of_headline_text'},inplace=True)"
   ]
  },
  {
   "cell_type": "code",
   "execution_count": 44,
   "id": "3fb9ba20-b6f6-432e-b4fa-0691a199a36a",
   "metadata": {},
   "outputs": [
    {
     "data": {
      "text/html": [
       "<div>\n",
       "<style scoped>\n",
       "    .dataframe tbody tr th:only-of-type {\n",
       "        vertical-align: middle;\n",
       "    }\n",
       "\n",
       "    .dataframe tbody tr th {\n",
       "        vertical-align: top;\n",
       "    }\n",
       "\n",
       "    .dataframe thead th {\n",
       "        text-align: right;\n",
       "    }\n",
       "</style>\n",
       "<table border=\"1\" class=\"dataframe\">\n",
       "  <thead>\n",
       "    <tr style=\"text-align: right;\">\n",
       "      <th></th>\n",
       "      <th>Number_of_headline_text</th>\n",
       "    </tr>\n",
       "    <tr>\n",
       "      <th>city_name</th>\n",
       "      <th></th>\n",
       "    </tr>\n",
       "  </thead>\n",
       "  <tbody>\n",
       "    <tr>\n",
       "      <th>bengaluru</th>\n",
       "      <td>113</td>\n",
       "    </tr>\n",
       "    <tr>\n",
       "      <th>mumbai</th>\n",
       "      <td>94</td>\n",
       "    </tr>\n",
       "    <tr>\n",
       "      <th>delhi</th>\n",
       "      <td>84</td>\n",
       "    </tr>\n",
       "    <tr>\n",
       "      <th>ahmedabad</th>\n",
       "      <td>83</td>\n",
       "    </tr>\n",
       "    <tr>\n",
       "      <th>pune</th>\n",
       "      <td>78</td>\n",
       "    </tr>\n",
       "    <tr>\n",
       "      <th>hyderabad</th>\n",
       "      <td>75</td>\n",
       "    </tr>\n",
       "    <tr>\n",
       "      <th>patna</th>\n",
       "      <td>73</td>\n",
       "    </tr>\n",
       "    <tr>\n",
       "      <th>chandigarh</th>\n",
       "      <td>59</td>\n",
       "    </tr>\n",
       "    <tr>\n",
       "      <th>goa</th>\n",
       "      <td>57</td>\n",
       "    </tr>\n",
       "    <tr>\n",
       "      <th>nagpur</th>\n",
       "      <td>55</td>\n",
       "    </tr>\n",
       "    <tr>\n",
       "      <th>kolkata</th>\n",
       "      <td>43</td>\n",
       "    </tr>\n",
       "    <tr>\n",
       "      <th>lucknow</th>\n",
       "      <td>43</td>\n",
       "    </tr>\n",
       "    <tr>\n",
       "      <th>thiruvananthapuram</th>\n",
       "      <td>42</td>\n",
       "    </tr>\n",
       "    <tr>\n",
       "      <th>madurai</th>\n",
       "      <td>35</td>\n",
       "    </tr>\n",
       "    <tr>\n",
       "      <th>trichy</th>\n",
       "      <td>33</td>\n",
       "    </tr>\n",
       "  </tbody>\n",
       "</table>\n",
       "</div>"
      ],
      "text/plain": [
       "                    Number_of_headline_text\n",
       "city_name                                  \n",
       "bengaluru                               113\n",
       "mumbai                                   94\n",
       "delhi                                    84\n",
       "ahmedabad                                83\n",
       "pune                                     78\n",
       "hyderabad                                75\n",
       "patna                                    73\n",
       "chandigarh                               59\n",
       "goa                                      57\n",
       "nagpur                                   55\n",
       "kolkata                                  43\n",
       "lucknow                                  43\n",
       "thiruvananthapuram                       42\n",
       "madurai                                  35\n",
       "trichy                                   33"
      ]
     },
     "execution_count": 44,
     "metadata": {},
     "output_type": "execute_result"
    }
   ],
   "source": [
    "# finding the top 15 cities which have high number of headlines text\n",
    "city_headline = city_headline.sort_values(by='Number_of_headline_text',ascending=False)\n",
    "top_15_headline_city = city_headline.head(15)\n",
    "top_15_headline_city"
   ]
  },
  {
   "cell_type": "code",
   "execution_count": 45,
   "id": "83e7ad4c-5035-4410-9269-0c5cbb950892",
   "metadata": {},
   "outputs": [
    {
     "data": {
      "image/png": "[encoded data removed]",
      "text/plain": [
       "<Figure size 1600x600 with 1 Axes>"
      ]
     },
     "metadata": {},
     "output_type": "display_data"
    }
   ],
   "source": [
    "# plotting a graph for better understanding for top 15 cities which have high no. of headline text\n",
    "\n",
    "plt.figure(figsize=(16,6))\n",
    "plt.bar(top_15_headline_city.index,height=top_15_headline_city['Number_of_headline_text'])\n",
    "plt.xticks(rotation = 45)\n",
    "plt.xlabel('City Name',fontsize=18)\n",
    "plt.ylabel('Number of recorded articles',fontsize=18)\n",
    "plt.title('Number of articles per city\\n',fontsize=24, fontweight='bold')\n",
    "plt.show()"
   ]
  },
  {
   "cell_type": "code",
   "execution_count": null,
   "id": "fe7e12d1-ec81-4398-8e39-d7bc80f9b2c9",
   "metadata": {},
   "outputs": [],
   "source": [
    "# **Step 2.4: Representing Number of News Headlines per year and per city**"
   ]
  },
  {
   "cell_type": "code",
   "execution_count": 46,
   "id": "055257d1-2b3c-4a4e-96db-079c5839369d",
   "metadata": {},
   "outputs": [
    {
     "data": {
      "text/html": [
       "<div>\n",
       "<style scoped>\n",
       "    .dataframe tbody tr th:only-of-type {\n",
       "        vertical-align: middle;\n",
       "    }\n",
       "\n",
       "    .dataframe tbody tr th {\n",
       "        vertical-align: top;\n",
       "    }\n",
       "\n",
       "    .dataframe thead th {\n",
       "        text-align: right;\n",
       "    }\n",
       "</style>\n",
       "<table border=\"1\" class=\"dataframe\">\n",
       "  <thead>\n",
       "    <tr style=\"text-align: right;\">\n",
       "      <th></th>\n",
       "      <th>level_0</th>\n",
       "      <th>index</th>\n",
       "      <th>Date</th>\n",
       "      <th>headline_text</th>\n",
       "      <th>city_name</th>\n",
       "    </tr>\n",
       "  </thead>\n",
       "  <tbody>\n",
       "    <tr>\n",
       "      <th>0</th>\n",
       "      <td>8</td>\n",
       "      <td>642</td>\n",
       "      <td>1970-01-01 00:00:00.020010110</td>\n",
       "      <td>Fend for yourselves; Pande tells doctors</td>\n",
       "      <td>patna</td>\n",
       "    </tr>\n",
       "    <tr>\n",
       "      <th>1</th>\n",
       "      <td>48</td>\n",
       "      <td>2215</td>\n",
       "      <td>1970-01-01 00:00:00.020010309</td>\n",
       "      <td>Maneka asks govt to take back land for cow she...</td>\n",
       "      <td>delhi</td>\n",
       "    </tr>\n",
       "    <tr>\n",
       "      <th>2</th>\n",
       "      <td>114</td>\n",
       "      <td>4563</td>\n",
       "      <td>1970-01-01 00:00:00.020010522</td>\n",
       "      <td>She turned and fought</td>\n",
       "      <td>pune</td>\n",
       "    </tr>\n",
       "    <tr>\n",
       "      <th>3</th>\n",
       "      <td>116</td>\n",
       "      <td>4693</td>\n",
       "      <td>1970-01-01 00:00:00.020010527</td>\n",
       "      <td>Need to boost exports; says bank head</td>\n",
       "      <td>bengaluru</td>\n",
       "    </tr>\n",
       "    <tr>\n",
       "      <th>4</th>\n",
       "      <td>118</td>\n",
       "      <td>4917</td>\n",
       "      <td>1970-01-01 00:00:00.020010529</td>\n",
       "      <td>US visit won't be piece of cake for Krishna</td>\n",
       "      <td>bengaluru</td>\n",
       "    </tr>\n",
       "  </tbody>\n",
       "</table>\n",
       "</div>"
      ],
      "text/plain": [
       "   level_0  index                          Date  \\\n",
       "0        8    642 1970-01-01 00:00:00.020010110   \n",
       "1       48   2215 1970-01-01 00:00:00.020010309   \n",
       "2      114   4563 1970-01-01 00:00:00.020010522   \n",
       "3      116   4693 1970-01-01 00:00:00.020010527   \n",
       "4      118   4917 1970-01-01 00:00:00.020010529   \n",
       "\n",
       "                                       headline_text  city_name  \n",
       "0           Fend for yourselves; Pande tells doctors      patna  \n",
       "1  Maneka asks govt to take back land for cow she...      delhi  \n",
       "2                              She turned and fought       pune  \n",
       "3              Need to boost exports; says bank head  bengaluru  \n",
       "4        US visit won't be piece of cake for Krishna  bengaluru  "
      ]
     },
     "execution_count": 46,
     "metadata": {},
     "output_type": "execute_result"
    }
   ],
   "source": [
    "city_data['Date'] = pd.to_datetime(city_data['Date'])\n",
    "city_data.head()"
   ]
  },
  {
   "cell_type": "code",
   "execution_count": 47,
   "id": "e1a7cee6-3b86-4b58-bc01-1bcf98eae076",
   "metadata": {},
   "outputs": [],
   "source": [
    "city_data['Year'] = city_data['Date'].apply(lambda x: (x.year))"
   ]
  },
  {
   "cell_type": "code",
   "execution_count": 48,
   "id": "fbce0edf-1f33-4ed3-b588-0fbb9d6b3014",
   "metadata": {},
   "outputs": [],
   "source": [
    "# dropping unnecessary columns\n",
    "city_data.drop(columns=['Date','index'],axis=1,inplace=True)"
   ]
  },
  {
   "cell_type": "code",
   "execution_count": 49,
   "id": "6a453281-7b84-442f-bb37-3d06546957e7",
   "metadata": {},
   "outputs": [
    {
     "data": {
      "text/html": [
       "<div>\n",
       "<style scoped>\n",
       "    .dataframe tbody tr th:only-of-type {\n",
       "        vertical-align: middle;\n",
       "    }\n",
       "\n",
       "    .dataframe tbody tr th {\n",
       "        vertical-align: top;\n",
       "    }\n",
       "\n",
       "    .dataframe thead th {\n",
       "        text-align: right;\n",
       "    }\n",
       "</style>\n",
       "<table border=\"1\" class=\"dataframe\">\n",
       "  <thead>\n",
       "    <tr style=\"text-align: right;\">\n",
       "      <th></th>\n",
       "      <th>level_0</th>\n",
       "      <th>headline_text</th>\n",
       "      <th>city_name</th>\n",
       "      <th>Year</th>\n",
       "    </tr>\n",
       "  </thead>\n",
       "  <tbody>\n",
       "    <tr>\n",
       "      <th>0</th>\n",
       "      <td>8</td>\n",
       "      <td>Fend for yourselves; Pande tells doctors</td>\n",
       "      <td>patna</td>\n",
       "      <td>1970</td>\n",
       "    </tr>\n",
       "    <tr>\n",
       "      <th>1</th>\n",
       "      <td>48</td>\n",
       "      <td>Maneka asks govt to take back land for cow she...</td>\n",
       "      <td>delhi</td>\n",
       "      <td>1970</td>\n",
       "    </tr>\n",
       "    <tr>\n",
       "      <th>2</th>\n",
       "      <td>114</td>\n",
       "      <td>She turned and fought</td>\n",
       "      <td>pune</td>\n",
       "      <td>1970</td>\n",
       "    </tr>\n",
       "    <tr>\n",
       "      <th>3</th>\n",
       "      <td>116</td>\n",
       "      <td>Need to boost exports; says bank head</td>\n",
       "      <td>bengaluru</td>\n",
       "      <td>1970</td>\n",
       "    </tr>\n",
       "    <tr>\n",
       "      <th>4</th>\n",
       "      <td>118</td>\n",
       "      <td>US visit won't be piece of cake for Krishna</td>\n",
       "      <td>bengaluru</td>\n",
       "      <td>1970</td>\n",
       "    </tr>\n",
       "  </tbody>\n",
       "</table>\n",
       "</div>"
      ],
      "text/plain": [
       "   level_0                                      headline_text  city_name  Year\n",
       "0        8           Fend for yourselves; Pande tells doctors      patna  1970\n",
       "1       48  Maneka asks govt to take back land for cow she...      delhi  1970\n",
       "2      114                              She turned and fought       pune  1970\n",
       "3      116              Need to boost exports; says bank head  bengaluru  1970\n",
       "4      118        US visit won't be piece of cake for Krishna  bengaluru  1970"
      ]
     },
     "execution_count": 49,
     "metadata": {},
     "output_type": "execute_result"
    }
   ],
   "source": [
    "# final result\n",
    "city_data.head()"
   ]
  },
  {
   "cell_type": "code",
   "execution_count": 50,
   "id": "8d6919b3-b74e-4d98-ba54-a54eef3b68b5",
   "metadata": {},
   "outputs": [],
   "source": [
    "city_data_2 = city_data.copy()\n",
    "city_data_2['Number_of_headline_text'] = 1"
   ]
  },
  {
   "cell_type": "code",
   "execution_count": 51,
   "id": "c8f3c627-3137-4f94-bfff-21a59f776b7a",
   "metadata": {},
   "outputs": [],
   "source": [
    "# dropping unwanted column\n",
    "city_data_2.drop(columns=['headline_text'],axis=1, inplace=True)"
   ]
  },
  {
   "cell_type": "code",
   "execution_count": 52,
   "id": "05229a8b-3057-47c3-acee-20091f847dc8",
   "metadata": {},
   "outputs": [
    {
     "data": {
      "text/html": [
       "<div>\n",
       "<style scoped>\n",
       "    .dataframe tbody tr th:only-of-type {\n",
       "        vertical-align: middle;\n",
       "    }\n",
       "\n",
       "    .dataframe tbody tr th {\n",
       "        vertical-align: top;\n",
       "    }\n",
       "\n",
       "    .dataframe thead th {\n",
       "        text-align: right;\n",
       "    }\n",
       "</style>\n",
       "<table border=\"1\" class=\"dataframe\">\n",
       "  <thead>\n",
       "    <tr style=\"text-align: right;\">\n",
       "      <th></th>\n",
       "      <th>level_0</th>\n",
       "      <th>city_name</th>\n",
       "      <th>Year</th>\n",
       "      <th>Number_of_headline_text</th>\n",
       "    </tr>\n",
       "  </thead>\n",
       "  <tbody>\n",
       "    <tr>\n",
       "      <th>0</th>\n",
       "      <td>8</td>\n",
       "      <td>patna</td>\n",
       "      <td>1970</td>\n",
       "      <td>1</td>\n",
       "    </tr>\n",
       "    <tr>\n",
       "      <th>1</th>\n",
       "      <td>48</td>\n",
       "      <td>delhi</td>\n",
       "      <td>1970</td>\n",
       "      <td>1</td>\n",
       "    </tr>\n",
       "    <tr>\n",
       "      <th>2</th>\n",
       "      <td>114</td>\n",
       "      <td>pune</td>\n",
       "      <td>1970</td>\n",
       "      <td>1</td>\n",
       "    </tr>\n",
       "    <tr>\n",
       "      <th>3</th>\n",
       "      <td>116</td>\n",
       "      <td>bengaluru</td>\n",
       "      <td>1970</td>\n",
       "      <td>1</td>\n",
       "    </tr>\n",
       "    <tr>\n",
       "      <th>4</th>\n",
       "      <td>118</td>\n",
       "      <td>bengaluru</td>\n",
       "      <td>1970</td>\n",
       "      <td>1</td>\n",
       "    </tr>\n",
       "  </tbody>\n",
       "</table>\n",
       "</div>"
      ],
      "text/plain": [
       "   level_0  city_name  Year  Number_of_headline_text\n",
       "0        8      patna  1970                        1\n",
       "1       48      delhi  1970                        1\n",
       "2      114       pune  1970                        1\n",
       "3      116  bengaluru  1970                        1\n",
       "4      118  bengaluru  1970                        1"
      ]
     },
     "execution_count": 52,
     "metadata": {},
     "output_type": "execute_result"
    }
   ],
   "source": [
    "city_data_2.head()"
   ]
  },
  {
   "cell_type": "code",
   "execution_count": 53,
   "id": "56c3b42e-dcd7-414d-adb3-0dd0ee0e5917",
   "metadata": {},
   "outputs": [
    {
     "data": {
      "text/html": [
       "<div>\n",
       "<style scoped>\n",
       "    .dataframe tbody tr th:only-of-type {\n",
       "        vertical-align: middle;\n",
       "    }\n",
       "\n",
       "    .dataframe tbody tr th {\n",
       "        vertical-align: top;\n",
       "    }\n",
       "\n",
       "    .dataframe thead th {\n",
       "        text-align: right;\n",
       "    }\n",
       "</style>\n",
       "<table border=\"1\" class=\"dataframe\">\n",
       "  <thead>\n",
       "    <tr style=\"text-align: right;\">\n",
       "      <th></th>\n",
       "      <th>Number_of_headline_text</th>\n",
       "    </tr>\n",
       "    <tr>\n",
       "      <th>city_name</th>\n",
       "      <th></th>\n",
       "    </tr>\n",
       "  </thead>\n",
       "  <tbody>\n",
       "    <tr>\n",
       "      <th>bengaluru</th>\n",
       "      <td>113</td>\n",
       "    </tr>\n",
       "    <tr>\n",
       "      <th>mumbai</th>\n",
       "      <td>94</td>\n",
       "    </tr>\n",
       "    <tr>\n",
       "      <th>delhi</th>\n",
       "      <td>84</td>\n",
       "    </tr>\n",
       "    <tr>\n",
       "      <th>ahmedabad</th>\n",
       "      <td>83</td>\n",
       "    </tr>\n",
       "    <tr>\n",
       "      <th>pune</th>\n",
       "      <td>78</td>\n",
       "    </tr>\n",
       "    <tr>\n",
       "      <th>hyderabad</th>\n",
       "      <td>75</td>\n",
       "    </tr>\n",
       "    <tr>\n",
       "      <th>patna</th>\n",
       "      <td>73</td>\n",
       "    </tr>\n",
       "  </tbody>\n",
       "</table>\n",
       "</div>"
      ],
      "text/plain": [
       "           Number_of_headline_text\n",
       "city_name                         \n",
       "bengaluru                      113\n",
       "mumbai                          94\n",
       "delhi                           84\n",
       "ahmedabad                       83\n",
       "pune                            78\n",
       "hyderabad                       75\n",
       "patna                           73"
      ]
     },
     "execution_count": 53,
     "metadata": {},
     "output_type": "execute_result"
    }
   ],
   "source": [
    "top_15_headline_city.head(7)"
   ]
  },
  {
   "cell_type": "code",
   "execution_count": 54,
   "id": "6fa9d400-c8a8-4fb6-915e-cf98e95deae3",
   "metadata": {},
   "outputs": [],
   "source": [
    "# creating new data_set for top 7 cities with year \n",
    "\n",
    "city_beng = city_data_2[city_data_2.city_name == 'bengaluru']\n",
    "city_del = city_data_2[city_data_2.city_name == 'delhi']\n",
    "city_ahme = city_data_2[city_data_2.city_name == 'ahmedabad']\n",
    "city_mum = city_data_2[city_data_2.city_name == 'mumbai']\n",
    "city_pune = city_data_2[city_data_2.city_name == 'pune']\n",
    "city_hyd = city_data_2[city_data_2.city_name == 'hyderabad']\n",
    "city_luck = city_data_2[city_data_2.city_name == 'luck']"
   ]
  },
  {
   "cell_type": "code",
   "execution_count": 55,
   "id": "da70d61c-32da-4ba5-8ee9-692594729e75",
   "metadata": {},
   "outputs": [],
   "source": [
    "famous_cities = [city_beng, city_del, city_ahme, city_mum, city_pune, city_hyd, city_luck]\n",
    "data_famous_cities = pd.concat(famous_cities)"
   ]
  },
  {
   "cell_type": "code",
   "execution_count": 56,
   "id": "6c046272-0338-4e26-82c0-c9edab81acc4",
   "metadata": {},
   "outputs": [],
   "source": [
    "# reset index numbers\n",
    "data_famous_cities.reset_index(inplace=True)"
   ]
  },
  {
   "cell_type": "code",
   "execution_count": 57,
   "id": "16e82768-8e1b-44b3-bd39-fc9cb3be3412",
   "metadata": {},
   "outputs": [
    {
     "name": "stdout",
     "output_type": "stream",
     "text": [
      "(527, 5)\n"
     ]
    },
    {
     "data": {
      "text/html": [
       "<div>\n",
       "<style scoped>\n",
       "    .dataframe tbody tr th:only-of-type {\n",
       "        vertical-align: middle;\n",
       "    }\n",
       "\n",
       "    .dataframe tbody tr th {\n",
       "        vertical-align: top;\n",
       "    }\n",
       "\n",
       "    .dataframe thead th {\n",
       "        text-align: right;\n",
       "    }\n",
       "</style>\n",
       "<table border=\"1\" class=\"dataframe\">\n",
       "  <thead>\n",
       "    <tr style=\"text-align: right;\">\n",
       "      <th></th>\n",
       "      <th>index</th>\n",
       "      <th>level_0</th>\n",
       "      <th>city_name</th>\n",
       "      <th>Year</th>\n",
       "      <th>Number_of_headline_text</th>\n",
       "    </tr>\n",
       "  </thead>\n",
       "  <tbody>\n",
       "    <tr>\n",
       "      <th>0</th>\n",
       "      <td>3</td>\n",
       "      <td>116</td>\n",
       "      <td>bengaluru</td>\n",
       "      <td>1970</td>\n",
       "      <td>1</td>\n",
       "    </tr>\n",
       "    <tr>\n",
       "      <th>1</th>\n",
       "      <td>4</td>\n",
       "      <td>118</td>\n",
       "      <td>bengaluru</td>\n",
       "      <td>1970</td>\n",
       "      <td>1</td>\n",
       "    </tr>\n",
       "    <tr>\n",
       "      <th>2</th>\n",
       "      <td>5</td>\n",
       "      <td>119</td>\n",
       "      <td>bengaluru</td>\n",
       "      <td>1970</td>\n",
       "      <td>1</td>\n",
       "    </tr>\n",
       "    <tr>\n",
       "      <th>3</th>\n",
       "      <td>7</td>\n",
       "      <td>135</td>\n",
       "      <td>bengaluru</td>\n",
       "      <td>1970</td>\n",
       "      <td>1</td>\n",
       "    </tr>\n",
       "    <tr>\n",
       "      <th>4</th>\n",
       "      <td>10</td>\n",
       "      <td>138</td>\n",
       "      <td>bengaluru</td>\n",
       "      <td>1970</td>\n",
       "      <td>1</td>\n",
       "    </tr>\n",
       "  </tbody>\n",
       "</table>\n",
       "</div>"
      ],
      "text/plain": [
       "   index  level_0  city_name  Year  Number_of_headline_text\n",
       "0      3      116  bengaluru  1970                        1\n",
       "1      4      118  bengaluru  1970                        1\n",
       "2      5      119  bengaluru  1970                        1\n",
       "3      7      135  bengaluru  1970                        1\n",
       "4     10      138  bengaluru  1970                        1"
      ]
     },
     "execution_count": 57,
     "metadata": {},
     "output_type": "execute_result"
    }
   ],
   "source": [
    "# top 7 cities\n",
    "print(data_famous_cities.shape)\n",
    "data_famous_cities.head()"
   ]
  },
  {
   "cell_type": "code",
   "execution_count": 58,
   "id": "175452ab-99f9-4c0c-a925-83e572990f01",
   "metadata": {},
   "outputs": [
    {
     "data": {
      "text/html": [
       "<div>\n",
       "<style scoped>\n",
       "    .dataframe tbody tr th:only-of-type {\n",
       "        vertical-align: middle;\n",
       "    }\n",
       "\n",
       "    .dataframe tbody tr th {\n",
       "        vertical-align: top;\n",
       "    }\n",
       "\n",
       "    .dataframe thead th {\n",
       "        text-align: right;\n",
       "    }\n",
       "</style>\n",
       "<table border=\"1\" class=\"dataframe\">\n",
       "  <thead>\n",
       "    <tr style=\"text-align: right;\">\n",
       "      <th></th>\n",
       "      <th>index</th>\n",
       "      <th>city_name</th>\n",
       "      <th>Year</th>\n",
       "      <th>Number_of_headline_text</th>\n",
       "    </tr>\n",
       "  </thead>\n",
       "  <tbody>\n",
       "    <tr>\n",
       "      <th>0</th>\n",
       "      <td>3</td>\n",
       "      <td>bengaluru</td>\n",
       "      <td>1970</td>\n",
       "      <td>1</td>\n",
       "    </tr>\n",
       "    <tr>\n",
       "      <th>1</th>\n",
       "      <td>4</td>\n",
       "      <td>bengaluru</td>\n",
       "      <td>1970</td>\n",
       "      <td>1</td>\n",
       "    </tr>\n",
       "    <tr>\n",
       "      <th>2</th>\n",
       "      <td>5</td>\n",
       "      <td>bengaluru</td>\n",
       "      <td>1970</td>\n",
       "      <td>1</td>\n",
       "    </tr>\n",
       "    <tr>\n",
       "      <th>3</th>\n",
       "      <td>7</td>\n",
       "      <td>bengaluru</td>\n",
       "      <td>1970</td>\n",
       "      <td>1</td>\n",
       "    </tr>\n",
       "    <tr>\n",
       "      <th>4</th>\n",
       "      <td>10</td>\n",
       "      <td>bengaluru</td>\n",
       "      <td>1970</td>\n",
       "      <td>1</td>\n",
       "    </tr>\n",
       "  </tbody>\n",
       "</table>\n",
       "</div>"
      ],
      "text/plain": [
       "   index  city_name  Year  Number_of_headline_text\n",
       "0      3  bengaluru  1970                        1\n",
       "1      4  bengaluru  1970                        1\n",
       "2      5  bengaluru  1970                        1\n",
       "3      7  bengaluru  1970                        1\n",
       "4     10  bengaluru  1970                        1"
      ]
     },
     "execution_count": 58,
     "metadata": {},
     "output_type": "execute_result"
    }
   ],
   "source": [
    "data_famous_cities=data_famous_cities.drop(['level_0'],axis=1)\n",
    "data_famous_cities.head()"
   ]
  },
  {
   "cell_type": "code",
   "execution_count": 59,
   "id": "5878aaac-dbbe-451a-a5ca-d3fc58b6d22c",
   "metadata": {},
   "outputs": [],
   "source": [
    "# year-wise no. of headlines text\n",
    "city_year_count = pd.Series(city_data_2.groupby(['Year'])['Number_of_headline_text'].count())\n",
    "\n",
    "# year-wise data which shows which city have how many no. of headline text\n",
    "city_count = data_famous_cities.groupby(['Year', 'city_name']).sum()['Number_of_headline_text'].unstack()"
   ]
  },
  {
   "cell_type": "code",
   "execution_count": 60,
   "id": "cc11247e-a0f4-41b6-a017-59154a097452",
   "metadata": {},
   "outputs": [
    {
     "data": {
      "text/html": [
       "<div>\n",
       "<style scoped>\n",
       "    .dataframe tbody tr th:only-of-type {\n",
       "        vertical-align: middle;\n",
       "    }\n",
       "\n",
       "    .dataframe tbody tr th {\n",
       "        vertical-align: top;\n",
       "    }\n",
       "\n",
       "    .dataframe thead th {\n",
       "        text-align: right;\n",
       "    }\n",
       "</style>\n",
       "<table border=\"1\" class=\"dataframe\">\n",
       "  <thead>\n",
       "    <tr style=\"text-align: right;\">\n",
       "      <th>city_name</th>\n",
       "      <th>ahmedabad</th>\n",
       "      <th>bengaluru</th>\n",
       "      <th>delhi</th>\n",
       "      <th>hyderabad</th>\n",
       "      <th>mumbai</th>\n",
       "      <th>pune</th>\n",
       "    </tr>\n",
       "    <tr>\n",
       "      <th>Year</th>\n",
       "      <th></th>\n",
       "      <th></th>\n",
       "      <th></th>\n",
       "      <th></th>\n",
       "      <th></th>\n",
       "      <th></th>\n",
       "    </tr>\n",
       "  </thead>\n",
       "  <tbody>\n",
       "    <tr>\n",
       "      <th>1970</th>\n",
       "      <td>83</td>\n",
       "      <td>113</td>\n",
       "      <td>84</td>\n",
       "      <td>75</td>\n",
       "      <td>94</td>\n",
       "      <td>78</td>\n",
       "    </tr>\n",
       "  </tbody>\n",
       "</table>\n",
       "</div>"
      ],
      "text/plain": [
       "city_name  ahmedabad  bengaluru  delhi  hyderabad  mumbai  pune\n",
       "Year                                                           \n",
       "1970              83        113     84         75      94    78"
      ]
     },
     "execution_count": 60,
     "metadata": {},
     "output_type": "execute_result"
    }
   ],
   "source": [
    "city_count.head()"
   ]
  },
  {
   "cell_type": "code",
   "execution_count": 61,
   "id": "796f178f-dba3-41a4-acda-4a59f6d64863",
   "metadata": {},
   "outputs": [
    {
     "data": {
      "text/plain": [
       "Year\n",
       "1970    1417\n",
       "Name: Number_of_headline_text, dtype: int64"
      ]
     },
     "execution_count": 61,
     "metadata": {},
     "output_type": "execute_result"
    }
   ],
   "source": [
    "city_year_count.head()"
   ]
  },
  {
   "cell_type": "code",
   "execution_count": 62,
   "id": "4251cb23-5e1e-4782-a96b-1db5917346b1",
   "metadata": {},
   "outputs": [
    {
     "data": {
      "image/png": "[encoded data removed]",
      "text/plain": [
       "<Figure size 2000x1000 with 2 Axes>"
      ]
     },
     "metadata": {},
     "output_type": "display_data"
    },
    {
     "data": {
      "text/plain": [
       "<Figure size 2000x1000 with 0 Axes>"
      ]
     },
     "metadata": {},
     "output_type": "display_data"
    }
   ],
   "source": [
    "fig=plt.figure()\n",
    "\n",
    "a = fig.add_subplot(111,label=\"1\")\n",
    "b = fig.add_subplot(111,label=\"2\", frame_on = False)\n",
    "\n",
    "plt.figure(figsize=(20,10))\n",
    "city_year_count.plot(kind='bar',figsize=(20,10), ax=a,title=\"Number of articles per year and per city\\n\")\n",
    "a.set_ylabel('Number of Articles (Per city)')\n",
    "a.set_xlabel(\"\")\n",
    "\n",
    "city_count.plot(ax=b)\n",
    "b.set_xticks([])\n",
    "b.set_ylabel('Number of Articles (Per city)', size =16)\n",
    "b.yaxis.tick_right()\n",
    "b.set_xlabel('Year') \n",
    "\n",
    "a.get_yaxis().set_label_coords(-.05,0.5)\n",
    "b.get_yaxis().set_label_coords(1.05,0.5)\n",
    "b.get_xaxis().set_label_coords(0.5, -0.07)\n",
    "\n",
    "plt.show()"
   ]
  },
  {
   "cell_type": "code",
   "execution_count": null,
   "id": "81aca188-b3ce-4483-9f6f-1f5ecce32047",
   "metadata": {},
   "outputs": [],
   "source": [
    "# **Step 2.5: Sentiment Analysis of News Headlines**"
   ]
  },
  {
   "cell_type": "code",
   "execution_count": 63,
   "id": "e5d27199-aab7-4a6b-b5f3-f6d628f4c3a5",
   "metadata": {},
   "outputs": [],
   "source": [
    "def getAnalysis_polarity(headline):\n",
    "    result = TextBlob(headline)\n",
    "    \n",
    "    if result.sentiment.polarity < 0:\n",
    "        return 'negative'\n",
    "    elif result.sentiment.polarity == 0:\n",
    "        return 'neutral'\n",
    "    else:\n",
    "        return 'positive'"
   ]
  },
  {
   "cell_type": "code",
   "execution_count": 64,
   "id": "b8a5bdee-3728-4601-80f4-6b0f692b1654",
   "metadata": {},
   "outputs": [],
   "source": [
    "data['Result'] = np.array([getAnalysis_polarity(headline) for headline in data['headline_text']])"
   ]
  },
  {
   "cell_type": "code",
   "execution_count": 65,
   "id": "0b474bcc-4844-40e9-b112-23469a1990d2",
   "metadata": {},
   "outputs": [
    {
     "data": {
      "text/html": [
       "<div>\n",
       "<style scoped>\n",
       "    .dataframe tbody tr th:only-of-type {\n",
       "        vertical-align: middle;\n",
       "    }\n",
       "\n",
       "    .dataframe tbody tr th {\n",
       "        vertical-align: top;\n",
       "    }\n",
       "\n",
       "    .dataframe thead th {\n",
       "        text-align: right;\n",
       "    }\n",
       "</style>\n",
       "<table border=\"1\" class=\"dataframe\">\n",
       "  <thead>\n",
       "    <tr style=\"text-align: right;\">\n",
       "      <th></th>\n",
       "      <th>headline_text</th>\n",
       "    </tr>\n",
       "    <tr>\n",
       "      <th>Result</th>\n",
       "      <th></th>\n",
       "    </tr>\n",
       "  </thead>\n",
       "  <tbody>\n",
       "    <tr>\n",
       "      <th>negative</th>\n",
       "      <td>773</td>\n",
       "    </tr>\n",
       "    <tr>\n",
       "      <th>neutral</th>\n",
       "      <td>5113</td>\n",
       "    </tr>\n",
       "    <tr>\n",
       "      <th>positive</th>\n",
       "      <td>1831</td>\n",
       "    </tr>\n",
       "  </tbody>\n",
       "</table>\n",
       "</div>"
      ],
      "text/plain": [
       "          headline_text\n",
       "Result                 \n",
       "negative            773\n",
       "neutral            5113\n",
       "positive           1831"
      ]
     },
     "execution_count": 65,
     "metadata": {},
     "output_type": "execute_result"
    }
   ],
   "source": [
    "final_result = data.groupby(['Result']).agg({'headline_text':'count'})\n",
    "final_result"
   ]
  },
  {
   "cell_type": "code",
   "execution_count": 66,
   "id": "90d11be8-58af-4af6-90bd-772f293bebaa",
   "metadata": {},
   "outputs": [
    {
     "name": "stdout",
     "output_type": "stream",
     "text": [
      "Positive Headlines:  headline_text    23.726837\n",
      "Name: positive, dtype: float64\n",
      "\n",
      "\n",
      "Negative Headlines:  headline_text    10.016846\n",
      "Name: negative, dtype: float64\n",
      "\n",
      "\n",
      "Unbiased Headlines:  headline_text    66.256317\n",
      "Name: neutral, dtype: float64\n"
     ]
    }
   ],
   "source": [
    "negative = (final_result.loc['negative'] / len(data))*100\n",
    "neutral = (final_result.loc['neutral'] / len(data))*100\n",
    "positive = (final_result.loc['positive'] / len(data))*100\n",
    "\n",
    "\n",
    "print('Positive Headlines: ' , positive )\n",
    "print('\\n\\nNegative Headlines: ' ,negative )\n",
    "print('\\n\\nUnbiased Headlines: ' , str(neutral))"
   ]
  },
  {
   "cell_type": "code",
   "execution_count": 67,
   "id": "8da0d02d-d544-411e-8276-3b3f89ac1dea",
   "metadata": {},
   "outputs": [
    {
     "data": {
      "image/png": "[encoded data removed]",
      "text/plain": [
       "<Figure size 800x800 with 1 Axes>"
      ]
     },
     "metadata": {},
     "output_type": "display_data"
    }
   ],
   "source": [
    "plt.figure(figsize=(8,8))\n",
    "final_result['headline_text'].plot.pie(autopct='%1.1f%%')\n",
    "plt.title(\"Overall Sentiment Distribution Pie Chart\",fontweight=\"bold\")\n",
    "plt.show()"
   ]
  },
  {
   "cell_type": "code",
   "execution_count": null,
   "id": "37325456-a774-46e9-8fdb-95da1d723cf2",
   "metadata": {},
   "outputs": [],
   "source": []
  },
  {
   "cell_type": "code",
   "execution_count": null,
   "id": "34e47d6a-c813-499e-be2c-c8bae4341834",
   "metadata": {},
   "outputs": [],
   "source": []
  },
  {
   "cell_type": "code",
   "execution_count": null,
   "id": "cb2b2cd2-4867-48b4-b19f-8ae94c772611",
   "metadata": {},
   "outputs": [],
   "source": []
  }
 ],
 "metadata": {
  "kernelspec": {
   "display_name": "Python 3 (ipykernel)",
   "language": "python",
   "name": "python3"
  },
  "language_info": {
   "codemirror_mode": {
    "name": "ipython",
    "version": 3
   },
   "file_extension": ".py",
   "mimetype": "text/x-python",
   "name": "python",
   "nbconvert_exporter": "python",
   "pygments_lexer": "ipython3",
   "version": "3.11.7"
  }
 },
 "nbformat": 4,
 "nbformat_minor": 5
}
